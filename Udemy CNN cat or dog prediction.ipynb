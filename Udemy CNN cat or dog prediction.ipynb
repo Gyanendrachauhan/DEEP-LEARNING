{
 "cells": [
  {
   "cell_type": "code",
   "execution_count": 1,
   "id": "62b74ed1",
   "metadata": {},
   "outputs": [],
   "source": [
    "import tensorflow as tf\n",
    "from keras.preprocessing.image import ImageDataGenerator"
   ]
  },
  {
   "cell_type": "code",
   "execution_count": 2,
   "id": "2590d050",
   "metadata": {},
   "outputs": [
    {
     "name": "stdout",
     "output_type": "stream",
     "text": [
      "Found 8000 images belonging to 2 classes.\n"
     ]
    }
   ],
   "source": [
    "#Preprocessing the Training set\n",
    "train_datagen = ImageDataGenerator(rescale = 1./255,\n",
    "                                   shear_range = 0.2,\n",
    "                                   zoom_range = 0.2,\n",
    "                                   horizontal_flip = True)\n",
    "training_set = train_datagen.flow_from_directory('Downloads/dataset/training_set',\n",
    "                                                 target_size = (64, 64),\n",
    "                                                 batch_size = 32,\n",
    "                                                 class_mode = 'binary')"
   ]
  },
  {
   "cell_type": "code",
   "execution_count": 3,
   "id": "6a9b1d20",
   "metadata": {},
   "outputs": [
    {
     "name": "stdout",
     "output_type": "stream",
     "text": [
      "Found 1998 images belonging to 2 classes.\n"
     ]
    }
   ],
   "source": [
    "#Preprocessing the Testing set\n",
    "test_datagen = ImageDataGenerator(rescale = 1./255)\n",
    "test_set = test_datagen.flow_from_directory('Downloads/dataset/test_set',\n",
    "                                            target_size = (64, 64),\n",
    "                                            batch_size = 32,\n",
    "                                            class_mode = 'binary')"
   ]
  },
  {
   "cell_type": "code",
   "execution_count": 4,
   "id": "f584c2f8",
   "metadata": {},
   "outputs": [],
   "source": [
    "cnn = tf.keras.models.Sequential() #Initialising the CNN"
   ]
  },
  {
   "cell_type": "code",
   "execution_count": 5,
   "id": "16b28174",
   "metadata": {},
   "outputs": [],
   "source": [
    "#Step 1 - Convolution\n",
    "cnn.add(tf.keras.layers.Conv2D(filters=32, kernel_size=3, activation='relu', input_shape=[64, 64, 3]))"
   ]
  },
  {
   "cell_type": "code",
   "execution_count": 6,
   "id": "b14e2803",
   "metadata": {},
   "outputs": [],
   "source": [
    "#Step 2 - Pooling\n",
    "cnn.add(tf.keras.layers.MaxPool2D(pool_size=2, strides=2))"
   ]
  },
  {
   "cell_type": "code",
   "execution_count": 7,
   "id": "28bb7050",
   "metadata": {},
   "outputs": [],
   "source": [
    "#Adding a second convolutional laye\n",
    "cnn.add(tf.keras.layers.Conv2D(filters=32, kernel_size=3, activation='relu'))\n",
    "cnn.add(tf.keras.layers.MaxPool2D(pool_size=2, strides=2))"
   ]
  },
  {
   "cell_type": "code",
   "execution_count": 8,
   "id": "81fb25a2",
   "metadata": {},
   "outputs": [],
   "source": [
    "#Step 3 - Flattening\n",
    "cnn.add(tf.keras.layers.Flatten())"
   ]
  },
  {
   "cell_type": "code",
   "execution_count": 9,
   "id": "65841038",
   "metadata": {},
   "outputs": [],
   "source": [
    "#Step 4 - Full Connection\n",
    "cnn.add(tf.keras.layers.Dense(units=128, activation='relu'))"
   ]
  },
  {
   "cell_type": "code",
   "execution_count": 10,
   "id": "4c5cd1c1",
   "metadata": {},
   "outputs": [],
   "source": [
    "#Step 5 - Output Layer\n",
    "cnn.add(tf.keras.layers.Dense(units=1, activation='sigmoid'))"
   ]
  },
  {
   "cell_type": "code",
   "execution_count": 11,
   "id": "7ef80fec",
   "metadata": {},
   "outputs": [],
   "source": [
    "#Part 3 - Training the CNN\n",
    "#Compiling the CNN\n",
    "cnn.compile(optimizer = 'adam', loss = 'binary_crossentropy', metrics = ['accuracy'])"
   ]
  },
  {
   "cell_type": "code",
   "execution_count": 12,
   "id": "1e6c64b4",
   "metadata": {},
   "outputs": [
    {
     "name": "stdout",
     "output_type": "stream",
     "text": [
      "Epoch 1/25\n",
      "250/250 [==============================] - 37s 147ms/step - loss: 0.6638 - accuracy: 0.5909 - val_loss: 0.6045 - val_accuracy: 0.6767\n",
      "Epoch 2/25\n",
      "250/250 [==============================] - 35s 139ms/step - loss: 0.5864 - accuracy: 0.6884 - val_loss: 0.5678 - val_accuracy: 0.7142\n",
      "Epoch 3/25\n",
      "250/250 [==============================] - 31s 125ms/step - loss: 0.5439 - accuracy: 0.7219 - val_loss: 0.5109 - val_accuracy: 0.7492\n",
      "Epoch 4/25\n",
      "250/250 [==============================] - 34s 136ms/step - loss: 0.5147 - accuracy: 0.7433 - val_loss: 0.5172 - val_accuracy: 0.7503\n",
      "Epoch 5/25\n",
      "250/250 [==============================] - 33s 131ms/step - loss: 0.4915 - accuracy: 0.7636 - val_loss: 0.5085 - val_accuracy: 0.7698\n",
      "Epoch 6/25\n",
      "250/250 [==============================] - 37s 149ms/step - loss: 0.4723 - accuracy: 0.7717 - val_loss: 0.4713 - val_accuracy: 0.7753\n",
      "Epoch 7/25\n",
      "250/250 [==============================] - 37s 149ms/step - loss: 0.4633 - accuracy: 0.7795 - val_loss: 0.4733 - val_accuracy: 0.7783\n",
      "Epoch 8/25\n",
      "250/250 [==============================] - 34s 134ms/step - loss: 0.4446 - accuracy: 0.7906 - val_loss: 0.4646 - val_accuracy: 0.7858\n",
      "Epoch 9/25\n",
      "250/250 [==============================] - 37s 149ms/step - loss: 0.4303 - accuracy: 0.7980 - val_loss: 0.4605 - val_accuracy: 0.7918\n",
      "Epoch 10/25\n",
      "250/250 [==============================] - 34s 136ms/step - loss: 0.4208 - accuracy: 0.8026 - val_loss: 0.4726 - val_accuracy: 0.7873\n",
      "Epoch 11/25\n",
      "250/250 [==============================] - 31s 122ms/step - loss: 0.4088 - accuracy: 0.8098 - val_loss: 0.4941 - val_accuracy: 0.7668\n",
      "Epoch 12/25\n",
      "250/250 [==============================] - 31s 123ms/step - loss: 0.3932 - accuracy: 0.8175 - val_loss: 0.4753 - val_accuracy: 0.7918\n",
      "Epoch 13/25\n",
      "250/250 [==============================] - 30s 120ms/step - loss: 0.3746 - accuracy: 0.8303 - val_loss: 0.4708 - val_accuracy: 0.7958\n",
      "Epoch 14/25\n",
      "250/250 [==============================] - 31s 123ms/step - loss: 0.3665 - accuracy: 0.8288 - val_loss: 0.4788 - val_accuracy: 0.7868\n",
      "Epoch 15/25\n",
      "250/250 [==============================] - 30s 121ms/step - loss: 0.3520 - accuracy: 0.8406 - val_loss: 0.4742 - val_accuracy: 0.7963\n",
      "Epoch 16/25\n",
      "250/250 [==============================] - 32s 129ms/step - loss: 0.3394 - accuracy: 0.8491 - val_loss: 0.4560 - val_accuracy: 0.8023\n",
      "Epoch 17/25\n",
      "250/250 [==============================] - 33s 133ms/step - loss: 0.3320 - accuracy: 0.8547 - val_loss: 0.4539 - val_accuracy: 0.8113\n",
      "Epoch 18/25\n",
      "250/250 [==============================] - 33s 132ms/step - loss: 0.3265 - accuracy: 0.8551 - val_loss: 0.4855 - val_accuracy: 0.7843\n",
      "Epoch 19/25\n",
      "250/250 [==============================] - 33s 133ms/step - loss: 0.3078 - accuracy: 0.8676 - val_loss: 0.4928 - val_accuracy: 0.7763\n",
      "Epoch 20/25\n",
      "250/250 [==============================] - 33s 132ms/step - loss: 0.2979 - accuracy: 0.8714 - val_loss: 0.4944 - val_accuracy: 0.7898\n",
      "Epoch 21/25\n",
      "250/250 [==============================] - 33s 132ms/step - loss: 0.2872 - accuracy: 0.8759 - val_loss: 0.4856 - val_accuracy: 0.8058\n",
      "Epoch 22/25\n",
      "250/250 [==============================] - 33s 133ms/step - loss: 0.2749 - accuracy: 0.8867 - val_loss: 0.4906 - val_accuracy: 0.7878\n",
      "Epoch 23/25\n",
      "250/250 [==============================] - 34s 136ms/step - loss: 0.2602 - accuracy: 0.8855 - val_loss: 0.4559 - val_accuracy: 0.8198\n",
      "Epoch 24/25\n",
      "250/250 [==============================] - 34s 134ms/step - loss: 0.2501 - accuracy: 0.8956 - val_loss: 0.4941 - val_accuracy: 0.8088\n",
      "Epoch 25/25\n",
      "250/250 [==============================] - 33s 132ms/step - loss: 0.2340 - accuracy: 0.9041 - val_loss: 0.5178 - val_accuracy: 0.8043\n"
     ]
    },
    {
     "data": {
      "text/plain": [
       "<keras.callbacks.History at 0x28514daa820>"
      ]
     },
     "execution_count": 12,
     "metadata": {},
     "output_type": "execute_result"
    }
   ],
   "source": [
    "#Training the CNN on the Training set and evaluating it on the Test set\n",
    "cnn.fit(x = training_set, validation_data = test_set, epochs = 25)"
   ]
  },
  {
   "cell_type": "code",
   "execution_count": 26,
   "id": "12406d36",
   "metadata": {},
   "outputs": [
    {
     "name": "stdout",
     "output_type": "stream",
     "text": [
      "1/1 [==============================] - 0s 38ms/step\n"
     ]
    }
   ],
   "source": [
    "#Part 4 - Making a single prediction\n",
    "import numpy as np\n",
    "from keras.preprocessing import image\n",
    "test_image = tf.keras.preprocessing.image.load_img('Downloads/dataset/single_prediction/cat.4387.jpg', target_size = (64, 64))\n",
    "test_image = tf.keras.preprocessing.image.img_to_array(test_image)\n",
    "test_image = np.expand_dims(test_image, axis = 0)\n",
    "result = cnn.predict(test_image)\n",
    "training_set.class_indices\n",
    "if result[0][0] == 1:\n",
    "    prediction = 'dog'\n",
    "else:\n",
    "    prediction = 'cat'\n",
    "\n",
    "\n"
   ]
  },
  {
   "cell_type": "code",
   "execution_count": 34,
   "id": "4e7f578a",
   "metadata": {},
   "outputs": [
    {
     "name": "stdout",
     "output_type": "stream",
     "text": [
      "dog\n",
      "[[1.]]\n"
     ]
    }
   ],
   "source": [
    "print(prediction) \n",
    "print(result)"
   ]
  },
  {
   "cell_type": "code",
   "execution_count": 15,
   "id": "6b077a42",
   "metadata": {},
   "outputs": [
    {
     "data": {
      "text/plain": [
       "{'cats': 0, 'dogs': 1}"
      ]
     },
     "execution_count": 15,
     "metadata": {},
     "output_type": "execute_result"
    }
   ],
   "source": [
    "training_set.class_indices"
   ]
  },
  {
   "cell_type": "code",
   "execution_count": 30,
   "id": "88034e41",
   "metadata": {},
   "outputs": [
    {
     "name": "stdout",
     "output_type": "stream",
     "text": [
      "1/1 [==============================] - 0s 38ms/step\n"
     ]
    }
   ],
   "source": [
    "import numpy as np\n",
    "from keras.preprocessing import image\n",
    "test_image = tf.keras.preprocessing.image.load_img('Downloads/dataset/single_prediction/dog.4387.jpg', target_size = (64, 64))\n",
    "test_image = tf.keras.preprocessing.image.img_to_array(test_image)\n",
    "test_image = np.expand_dims(test_image, axis = 0)\n",
    "result = cnn.predict(test_image)\n",
    "training_set.class_indices\n",
    "if result[0][0] == 1:\n",
    "    prediction = 'dog'\n",
    "else:\n",
    "    prediction = 'cat'"
   ]
  },
  {
   "cell_type": "code",
   "execution_count": 31,
   "id": "9a908d67",
   "metadata": {},
   "outputs": [
    {
     "name": "stdout",
     "output_type": "stream",
     "text": [
      "dog\n"
     ]
    }
   ],
   "source": [
    "print(prediction)"
   ]
  },
  {
   "cell_type": "code",
   "execution_count": null,
   "id": "79c269ab",
   "metadata": {},
   "outputs": [],
   "source": []
  }
 ],
 "metadata": {
  "kernelspec": {
   "display_name": "Python 3 (ipykernel)",
   "language": "python",
   "name": "python3"
  },
  "language_info": {
   "codemirror_mode": {
    "name": "ipython",
    "version": 3
   },
   "file_extension": ".py",
   "mimetype": "text/x-python",
   "name": "python",
   "nbconvert_exporter": "python",
   "pygments_lexer": "ipython3",
   "version": "3.9.7"
  }
 },
 "nbformat": 4,
 "nbformat_minor": 5
}
